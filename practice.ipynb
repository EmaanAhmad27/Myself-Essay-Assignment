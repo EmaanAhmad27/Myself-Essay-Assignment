{
  "nbformat": 4,
  "nbformat_minor": 0,
  "metadata": {
    "colab": {
      "provenance": [],
      "authorship_tag": "ABX9TyOuPObyu0CDH6Yn+oFEae7D",
      "include_colab_link": true
    },
    "kernelspec": {
      "name": "python3",
      "display_name": "Python 3"
    },
    "language_info": {
      "name": "python"
    }
  },
  "cells": [
    {
      "cell_type": "markdown",
      "metadata": {
        "id": "view-in-github",
        "colab_type": "text"
      },
      "source": [
        "<a href=\"https://colab.research.google.com/github/EmaanAhmad27/Myself-Essay-Assignment/blob/main/practice.ipynb\" target=\"_parent\"><img src=\"https://colab.research.google.com/assets/colab-badge.svg\" alt=\"Open In Colab\"/></a>"
      ]
    },
    {
      "cell_type": "markdown",
      "source": [
        "New Section"
      ],
      "metadata": {
        "id": "VpCvybEgRg4g"
      }
    },
    {
      "cell_type": "code",
      "source": [
        "#Create a function that converts temperatures between Celsius and Fahrenheit.\n",
        "def conversion (Fahrenheit: float):\n",
        "  celsius = Fahrenheit - 32 * 5/9\n",
        "  return celsius\n",
        "result = conversion(75)\n",
        "print (result)\n",
        "def convert_temp (Celsius:float):\n",
        "  Fahrenheit = Celsius * 9 / 5 + 32\n",
        "  return Fahrenheit\n",
        "result = convert_temp (50)\n",
        "print (result)"
      ],
      "metadata": {
        "colab": {
          "base_uri": "https://localhost:8080/"
        },
        "id": "HzH9Extuc6eU",
        "outputId": "9ba879b9-a7ee-4495-db09-3e02a4ffca68"
      },
      "execution_count": null,
      "outputs": [
        {
          "output_type": "stream",
          "name": "stdout",
          "text": [
            "57.22222222222222\n",
            "122.0\n"
          ]
        }
      ]
    },
    {
      "cell_type": "markdown",
      "source": [
        "Write a function to check if a given year is a leap year.\n",
        "\n",
        "Function name: is_leap_year\n",
        "Parameter: year (int)\n",
        "A year is a leap year if it is divisible by 4, but not by 100 unless it is also divisible by 400.\n",
        "Return True if the year is a leap year, otherwise False."
      ],
      "metadata": {
        "id": "UJ2kR0LhergH"
      }
    },
    {
      "cell_type": "code",
      "source": [
        "def is_leap_year (year:int):\n",
        "  if year % 4 == 0:\n",
        "    return True\n",
        "  else:\n",
        "    return False\n",
        "result = is_leap_year (2024)\n",
        "print (result)\n"
      ],
      "metadata": {
        "colab": {
          "base_uri": "https://localhost:8080/"
        },
        "id": "U2-Lup3mhYHe",
        "outputId": "4f7aa66f-e042-4c08-a247-6d8a492ad9df"
      },
      "execution_count": null,
      "outputs": [
        {
          "output_type": "stream",
          "name": "stdout",
          "text": [
            "True\n"
          ]
        }
      ]
    },
    {
      "cell_type": "markdown",
      "source": [
        "Write a function to check if a number is prime.\n",
        "\n",
        "Function name: is_prime\n",
        "Parameter: num (int)\n",
        "A prime number is only divisible by 1 and itself.\n",
        "Return True if the number is prime, otherwise False."
      ],
      "metadata": {
        "id": "aYUKd3cuj6Zs"
      }
    },
    {
      "cell_type": "code",
      "source": [
        "def is_prime (num):\n",
        "  if num == 1 == num:\n",
        "    return True\n",
        "  else:\n",
        "    return False\n",
        "result = is_prime (50)\n",
        "print (result)"
      ],
      "metadata": {
        "colab": {
          "base_uri": "https://localhost:8080/"
        },
        "id": "he9p3SiLj-fK",
        "outputId": "65d1bf86-51eb-4616-e065-08b80049511a"
      },
      "execution_count": null,
      "outputs": [
        {
          "output_type": "stream",
          "name": "stdout",
          "text": [
            "False\n"
          ]
        }
      ]
    },
    {
      "cell_type": "code",
      "source": [
        "def check_num (n:int):\n",
        "  if n % 2:\n",
        "    return True\n",
        "  else:\n",
        "    return False\n",
        "result = check_num(10)\n",
        "print(result)\n"
      ],
      "metadata": {
        "colab": {
          "base_uri": "https://localhost:8080/"
        },
        "id": "TZKg5qfUm4c3",
        "outputId": "4d658678-df80-4d34-e1cc-c8935f469f9b"
      },
      "execution_count": null,
      "outputs": [
        {
          "output_type": "stream",
          "name": "stdout",
          "text": [
            "False\n"
          ]
        }
      ]
    },
    {
      "cell_type": "markdown",
      "source": [
        "Create a function that takes a score and returns a grade (A, B, C, D, or F).\n",
        "\n",
        "Function name: calculate_grade\n",
        "Parameter: score (int)\n",
        "Use if, elif, and else to return the grade:\n",
        "A for 90 and above\n",
        "B for 80-89\n",
        "C for 70-79\n",
        "D for 60-69\n",
        "F for below 60"
      ],
      "metadata": {
        "id": "o9qNXwoMn8Rk"
      }
    },
    {
      "cell_type": "code",
      "source": [
        "\n",
        "def give_score (n):\n",
        "  if n == 90:\n",
        "    return \"A\"\n",
        "  elif n == 80:\n",
        "    return \"B\"\n",
        "  elif n == 50:\n",
        "    return \"C\"\n",
        "  else:\n",
        "    return \"D\"\n",
        "result = give_score(20)\n",
        "print(result)\n",
        "\n"
      ],
      "metadata": {
        "colab": {
          "base_uri": "https://localhost:8080/"
        },
        "id": "MNuma14xn9Yt",
        "outputId": "4388bbb3-2d76-4eb2-fbdd-d39ed33315c6"
      },
      "execution_count": null,
      "outputs": [
        {
          "output_type": "stream",
          "name": "stdout",
          "text": [
            "D\n"
          ]
        }
      ]
    },
    {
      "cell_type": "code",
      "source": [
        "i = 10\n",
        "while i >= 1:\n",
        "  print (i)\n",
        "  i -= 1\n",
        "print (\"Blastoff!\")"
      ],
      "metadata": {
        "id": "t0oZ742FkAzN",
        "colab": {
          "base_uri": "https://localhost:8080/"
        },
        "outputId": "91c858b0-1041-4c16-e64e-3eb3ee28ad33"
      },
      "execution_count": 6,
      "outputs": [
        {
          "output_type": "stream",
          "name": "stdout",
          "text": [
            "10\n",
            "9\n",
            "8\n",
            "7\n",
            "6\n",
            "5\n",
            "4\n",
            "3\n",
            "2\n",
            "1\n",
            "Blastff!\n"
          ]
        }
      ]
    },
    {
      "cell_type": "code",
      "source": [
        "secret_number = 7\n",
        "Guess = int(input(\"Guess the number between 1 and 10:\"))\n",
        "while secret_number != Guess:\n",
        "  print(\"Try again\")\n",
        "  Guess = int(input(\"Guess the number between 1 and 10:\"))\n",
        "print(\"You got it\")\n"
      ],
      "metadata": {
        "colab": {
          "base_uri": "https://localhost:8080/"
        },
        "id": "tlzWfxtxJr5N",
        "outputId": "760b6491-4784-4d5b-de61-0f4782b4be21"
      },
      "execution_count": 10,
      "outputs": [
        {
          "output_type": "stream",
          "name": "stdout",
          "text": [
            "Guess the number between 1 an 10:4\n",
            "Try again\n",
            "Guess the number between 1 and 10:7\n",
            "You got it\n"
          ]
        }
      ]
    },
    {
      "cell_type": "code",
      "source": [
        "password = (\"minatina\")\n",
        "guess = input(\"Guess the password:\")\n",
        "while guess != password:\n",
        "  print(\"incorrect password\")\n",
        "  guess = input(\"Guess the password:\")\n",
        "print (\"successful login\")"
      ],
      "metadata": {
        "colab": {
          "base_uri": "https://localhost:8080/"
        },
        "id": "Ur8j1c_9K7Sj",
        "outputId": "e3181592-a0a2-4e96-ed4f-9d7788e00a63"
      },
      "execution_count": 14,
      "outputs": [
        {
          "output_type": "stream",
          "name": "stdout",
          "text": [
            "Guess the password:janu\n",
            "incorrect password\n",
            "Guess the password:minu\n",
            "incorrect password\n",
            "Guess the password:minatina\n",
            "successful login\n"
          ]
        }
      ]
    },
    {
      "cell_type": "code",
      "source": [
        "total = 0\n",
        "while True:\n",
        "  user_input = input(\"Enter a given number or type 'stop':\")\n",
        "  if user_input == \"stop\":\n",
        "    break\n",
        "  number = int(user_input)\n",
        "  total += number\n",
        "print (\"total_num:\", total)\n",
        "\n"
      ],
      "metadata": {
        "colab": {
          "base_uri": "https://localhost:8080/"
        },
        "id": "kGQGFS_nNOFT",
        "outputId": "daf27437-4c70-41aa-e391-cf44cc8b46a8"
      },
      "execution_count": 17,
      "outputs": [
        {
          "output_type": "stream",
          "name": "stdout",
          "text": [
            "Enter a given number:10\n",
            "Enter a given number:20\n",
            "Enter a given number:30\n",
            "Enter a given number:stop\n",
            "total_num: 60\n"
          ]
        }
      ]
    },
    {
      "cell_type": "code",
      "source": [
        "correct_answer = \"Islamabad\"\n",
        "while True:\n",
        "  user_input = input(\"Enter the capital:\")\n",
        "  if user_input == correct_answer:\n",
        "    print(\"correct answer\")\n",
        "    break\n",
        "  else:\n",
        "    print(\"try again\")\n",
        "\n"
      ],
      "metadata": {
        "colab": {
          "base_uri": "https://localhost:8080/"
        },
        "id": "rSf1IO6NmcrF",
        "outputId": "54c59e6c-7805-4fbc-8c1a-a00ee91999b5"
      },
      "execution_count": 21,
      "outputs": [
        {
          "output_type": "stream",
          "name": "stdout",
          "text": [
            "Enter the capital:lahore\n",
            "try again\n",
            "Enter the capital:Islamabad\n",
            "correct answer\n"
          ]
        }
      ]
    },
    {
      "cell_type": "code",
      "source": [
        "number = 1\n",
        "while True:\n",
        "  number *= 2\n",
        "  print (number)\n",
        "  if number > 1000:\n",
        "    break\n",
        "\n"
      ],
      "metadata": {
        "colab": {
          "base_uri": "https://localhost:8080/"
        },
        "id": "xlO3Toqlo-dQ",
        "outputId": "958b50c7-cd8b-49d3-9177-4fe636ed97d8"
      },
      "execution_count": 27,
      "outputs": [
        {
          "output_type": "stream",
          "name": "stdout",
          "text": [
            "2\n",
            "4\n",
            "8\n",
            "16\n",
            "32\n",
            "64\n",
            "128\n",
            "256\n",
            "512\n",
            "1024\n"
          ]
        }
      ]
    },
    {
      "cell_type": "code",
      "source": [
        "answer = 10\n",
        "while True:\n",
        "  user_ans = int(input(\"What's 5 times 2?:\"))\n",
        "  user_ans != answer\n",
        "  if user_ans == answer:\n",
        "    print (\"correct answer\")\n",
        "    break\n",
        "\n"
      ],
      "metadata": {
        "colab": {
          "base_uri": "https://localhost:8080/"
        },
        "id": "0Bh45O83q-xd",
        "outputId": "c4b26dfe-c0f1-4827-dd8f-89bdf7d7e609"
      },
      "execution_count": 30,
      "outputs": [
        {
          "output_type": "stream",
          "name": "stdout",
          "text": [
            "What's 5 times 2?:3\n",
            "What's 5 times 2?:4\n",
            "What's 5 times 2?:10\n",
            "correct answer\n"
          ]
        }
      ]
    },
    {
      "cell_type": "code",
      "source": [
        "answer = \"gigubigu\"\n",
        "while True:\n",
        "  user_ans = input(\"enter the secret word:\")\n",
        "  if user_ans == answer:\n",
        "     print (\"correct answer\")\n",
        "     break\n",
        "  else:\n",
        "    print(\"wrong answer\")\n",
        ""
      ],
      "metadata": {
        "colab": {
          "base_uri": "https://localhost:8080/"
        },
        "id": "sQlsdOVMtMCB",
        "outputId": "a30c778a-b530-4b26-df58-07afcf509121"
      },
      "execution_count": 38,
      "outputs": [
        {
          "output_type": "stream",
          "name": "stdout",
          "text": [
            "enter the secret word:vdh\n",
            "wrong answer\n",
            "enter the secret word:gigubigu\n",
            "correct answer\n"
          ]
        }
      ]
    }
  ]
}