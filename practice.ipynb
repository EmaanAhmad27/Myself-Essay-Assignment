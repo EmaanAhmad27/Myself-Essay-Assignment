{
  "nbformat": 4,
  "nbformat_minor": 0,
  "metadata": {
    "colab": {
      "provenance": [],
      "authorship_tag": "ABX9TyNdQ12YEWaQzTnxAq5JmqGi",
      "include_colab_link": true
    },
    "kernelspec": {
      "name": "python3",
      "display_name": "Python 3"
    },
    "language_info": {
      "name": "python"
    }
  },
  "cells": [
    {
      "cell_type": "markdown",
      "metadata": {
        "id": "view-in-github",
        "colab_type": "text"
      },
      "source": [
        "<a href=\"https://colab.research.google.com/github/EmaanAhmad27/Myself-Essay-Assignment/blob/main/practice.ipynb\" target=\"_parent\"><img src=\"https://colab.research.google.com/assets/colab-badge.svg\" alt=\"Open In Colab\"/></a>"
      ]
    },
    {
      "cell_type": "code",
      "execution_count": null,
      "metadata": {
        "colab": {
          "base_uri": "https://localhost:8080/"
        },
        "id": "qEMbbSEURDYl",
        "outputId": "29f05a0e-f319-4fcb-cafd-067b88ace031"
      },
      "outputs": [
        {
          "output_type": "stream",
          "name": "stdout",
          "text": [
            "Hello World!\n"
          ]
        }
      ],
      "source": [
        "print (\"Hello World!\")\n"
      ]
    },
    {
      "cell_type": "markdown",
      "source": [
        "New Section"
      ],
      "metadata": {
        "id": "VpCvybEgRg4g"
      }
    },
    {
      "cell_type": "code",
      "source": [
        "class Friends:\n",
        "  def __init__(self,name,age):\n",
        "    self.name = name\n",
        "    self.age = age\n",
        "p1 = Friends (\"aswah\", 23)\n",
        "print(p1.name)\n"
      ],
      "metadata": {
        "id": "CdEODfMxRi1h",
        "colab": {
          "base_uri": "https://localhost:8080/"
        },
        "outputId": "d647d3e9-30f3-49a8-a468-3d091581b61e"
      },
      "execution_count": null,
      "outputs": [
        {
          "output_type": "stream",
          "name": "stdout",
          "text": [
            "aswah\n"
          ]
        }
      ]
    },
    {
      "cell_type": "code",
      "source": [
        "\n"
      ],
      "metadata": {
        "id": "J6FCtAbGHmmO"
      },
      "execution_count": null,
      "outputs": []
    },
    {
      "cell_type": "code",
      "source": [
        "class Devices:\n",
        "  def __init__(self,mouse,keyboard):\n",
        "    self.mouse = mouse\n",
        "    self. keyboard = keyboard\n",
        "  def connections (self):\n",
        "    print (f\"I need to do {self.keyboard}\")\n",
        "p1 = Devices(\"cursor\", \"typing\")\n",
        "p1.connections()"
      ],
      "metadata": {
        "id": "K4qGMWxzyhX0",
        "colab": {
          "base_uri": "https://localhost:8080/"
        },
        "outputId": "961f7ecb-4bcf-428c-b713-cbde2fd9c9cf"
      },
      "execution_count": null,
      "outputs": [
        {
          "output_type": "stream",
          "name": "stdout",
          "text": [
            "I need to do typing\n"
          ]
        }
      ]
    },
    {
      "cell_type": "code",
      "source": [
        "\n",
        "class Colleagues:\n",
        "  def __init__(self,name,role):\n",
        "    self.name = name\n",
        "    self.role = role\n",
        "  def working (self):\n",
        "    print (f\"My senior name is {self.name}\")\n",
        "p1 = Colleagues(\"komal\", \"Content_manager\")\n",
        "p1.working()\n",
        "class Good_people (Colleagues):\n",
        "  def __init__(self, name, role, organization):\n",
        "    super().__init__(name, role)\n",
        "    self.organization = organization\n",
        "  def company(self):\n",
        "     print (f\"I work with {self.name} in {self.organization}\")\n",
        "p2 = Good_people(\"komal\", \"Content_manager\", \"Dmoose\")\n",
        "p2.company()\n",
        "\n"
      ],
      "metadata": {
        "colab": {
          "base_uri": "https://localhost:8080/"
        },
        "id": "DtHyloauBzxm",
        "outputId": "d665740e-16d3-41e5-c662-caab4e2680ce"
      },
      "execution_count": null,
      "outputs": [
        {
          "output_type": "stream",
          "name": "stdout",
          "text": [
            "My senior name is komal\n",
            "I work with komal in Dmoose\n"
          ]
        }
      ]
    },
    {
      "cell_type": "code",
      "source": [
        "class Plants:\n",
        "  def __init__(self,name,age):\n",
        "    self.name = name\n",
        "    self.age = age\n",
        "  def new (self):\n",
        "    print (f\"My plant name is {self.name}\")\n",
        "final = Plants(\"money\", 1)\n",
        "final.new()\n",
        "class Flowers (Plants):\n",
        "  pass\n",
        "x = Flowers(\"rose\", \"lily\")\n",
        "x.new()"
      ],
      "metadata": {
        "colab": {
          "base_uri": "https://localhost:8080/"
        },
        "id": "nVmyB6yW8Ig9",
        "outputId": "1592391d-2a60-4f13-96f5-89889d761f3b"
      },
      "execution_count": null,
      "outputs": [
        {
          "output_type": "stream",
          "name": "stdout",
          "text": [
            "My plant name is money\n",
            "My plant name is rose\n"
          ]
        }
      ]
    },
    {
      "cell_type": "code",
      "source": [
        "class Animals:\n",
        "  def __init__(self, name, quality):\n",
        "    self.name = name\n",
        "    self.quality = quality\n",
        "  def janwar (self):\n",
        "    print (f\"{self.name} do {self.quality}\")\n",
        "p3 = Animals(\"monkey\", \"jumping\")\n",
        "p3.janwar()\n",
        "class Herbi (Animals):\n",
        "  def __init__(self, name, quality, food):\n",
        "    super().__init__(name, quality)\n",
        "    self.food = food\n",
        "  def jeev (self):\n",
        "    print (f\"{self.name} likes {self.food}\")\n",
        "p4 = Herbi(\"monkey\", \"jumping\", \"bananas\")\n",
        "p4.jeev()\n"
      ],
      "metadata": {
        "id": "TYLV0aax_Lpm",
        "colab": {
          "base_uri": "https://localhost:8080/"
        },
        "outputId": "55bba245-a0e5-4305-9987-b9a3d1dc9486"
      },
      "execution_count": null,
      "outputs": [
        {
          "output_type": "stream",
          "name": "stdout",
          "text": [
            "monkey do jumping\n",
            "monkey likes bananas\n"
          ]
        }
      ]
    },
    {
      "cell_type": "code",
      "source": [
        "class Bartan:\n",
        "  def __init__ (self, name, role):\n",
        "    self.name = name\n",
        "    self.role = role\n",
        "  def crockery (self):\n",
        "    print (f\"I have {self.name}\")\n",
        "x = Bartan (\"knife\", \"cut\")\n",
        "x.crockery()\n",
        "class Dishes (Bartan):\n",
        "  def __init__(self, name, role, quality):\n",
        "    super().__init__(name, role)\n",
        "    self.quality = quality\n",
        "  def crockery_new (self):\n",
        "    print (f\"{self.name} are of {self.quality}\")\n",
        "y = Dishes(\"knife\", \"cut\", \"Good\")\n",
        "y.crockery_new()\n",
        "\n",
        "\n",
        "\n",
        "\n"
      ],
      "metadata": {
        "colab": {
          "base_uri": "https://localhost:8080/"
        },
        "id": "OsuB-te2j9m2",
        "outputId": "5a59d6b4-78d4-413d-d713-c9dc996e521a"
      },
      "execution_count": null,
      "outputs": [
        {
          "output_type": "stream",
          "name": "stdout",
          "text": [
            "I have knife\n",
            "knife are of Good\n"
          ]
        }
      ]
    },
    {
      "cell_type": "code",
      "source": [
        "# Class representing the university\n",
        "class University:\n",
        "    def __init__(self, name):\n",
        "        self.name = name\n",
        "        self.departments = []\n",
        "\n",
        "    def add_department(self, department):\n",
        "        self.departments.append(department)\n",
        "\n",
        "    def get_departments(self):\n",
        "        return [dept.name for dept in self.departments]\n",
        "\n",
        "\n",
        "# Class representing a department within the university\n",
        "class Department:\n",
        "    def __init__(self, name):\n",
        "        self.name = name\n",
        "        self.students = []\n",
        "        self.teachers = []\n",
        "\n",
        "    def add_student(self, student):\n",
        "        self.students.append(student)\n",
        "\n",
        "    def add_teacher(self, teacher):\n",
        "        self.teachers.append(teacher)\n",
        "\n",
        "    def get_students(self):\n",
        "        return [student.name for student in self.students]\n",
        "\n",
        "    def get_teachers(self):\n",
        "        return [teacher.name for teacher in self.teachers]\n",
        "\n",
        "\n",
        "# Base class for all humans in the university system\n",
        "class Human:\n",
        "    def __init__(self, name, age, gender):\n",
        "        self.name = name\n",
        "        self.age = age\n",
        "        self.gender = gender\n",
        "\n",
        "\n",
        "# Student class inheriting from Human\n",
        "class Student(Human):\n",
        "    def __init__(self, name, age, gender, student_id, section, department, courses_enrolled):\n",
        "        super().__init__(name, age, gender)\n",
        "        self.student_id = student_id\n",
        "        self.section = section\n",
        "        self.department = department\n",
        "        self.courses_enrolled = courses_enrolled\n",
        "\n",
        "    def get_details(self):\n",
        "        return {\n",
        "            'name': self.name,\n",
        "            'age': self.age,\n",
        "            'gender': self.gender,\n",
        "            'student_id': self.student_id,\n",
        "            'section': self.section,\n",
        "            'department': self.department,\n",
        "            'courses_enrolled': self.courses_enrolled\n",
        "        }\n",
        "\n",
        "\n",
        "# Teacher class inheriting from Human\n",
        "class Teacher(Human):\n",
        "    def __init__(self, name, age, gender, teacher_id, department, courses_taught):\n",
        "        super().__init__(name, age, gender)\n",
        "        self.teacher_id = teacher_id\n",
        "        self.department = department\n",
        "        self.courses_taught = courses_taught\n",
        "\n",
        "    def get_details(self):\n",
        "        return {\n",
        "            'name': self.name,\n",
        "            'age': self.age,\n",
        "            'gender': self.gender,\n",
        "            'teacher_id': self.teacher_id,\n",
        "            'department': self.department,\n",
        "            'courses_taught': self.courses_taught\n",
        "        }\n",
        "\n",
        "\n",
        "# Admin class inheriting from Human\n",
        "class Admin(Human):\n",
        "    def __init__(self, name, age, gender, admin_id, role):\n",
        "        super().__init__(name, age, gender)\n",
        "        self.admin_id = admin_id\n",
        "        self.role = role\n",
        "\n",
        "    def get_details(self):\n",
        "        return {\n",
        "            'name': self.name,\n",
        "            'age': self.age,\n",
        "            'gender': self.gender,\n",
        "            'admin_id': self.admin_id,\n",
        "            'role': self.role\n",
        "        }\n",
        "\n",
        "\n",
        "# Create University\n",
        "uni = University(\"Global Tech University\")\n",
        "\n",
        "# Create Departments\n",
        "cs_department = Department(\"Computer Science\")\n",
        "math_department = Department(\"Mathematics\")\n",
        "\n",
        "# Add departments to university\n",
        "uni.add_department(cs_department)\n",
        "uni.add_department(math_department)\n",
        "\n",
        "# Create Students\n",
        "student1 = Student(name=\"Alice Smith\", age=20, gender=\"Female\", student_id=\"CS101\", section=\"A\", department=\"Computer Science\", courses_enrolled=[\"Data Structures\", \"Algorithms\"])\n",
        "student2 = Student(name=\"Bob Johnson\", age=22, gender=\"Male\", student_id=\"CS102\", section=\"B\", department=\"Computer Science\", courses_enrolled=[\"Machine Learning\", \"Databases\"])\n",
        "student3 = Student(name=\"Charlie Brown\", age=21, gender=\"Male\", student_id=\"MATH201\", section=\"A\", department=\"Mathematics\", courses_enrolled=[\"Calculus\", \"Linear Algebra\"])\n",
        "\n",
        "# Add students to respective departments\n",
        "cs_department.add_student(student1)\n",
        "cs_department.add_student(student2)\n",
        "math_department.add_student(student3)\n",
        "\n",
        "# Create Teachers\n",
        "teacher1 = Teacher(name=\"Dr. Alice Cooper\", age=45, gender=\"Female\", teacher_id=\"T1001\", department=\"Computer Science\", courses_taught=[\"Data Structures\", \"Algorithms\"])\n",
        "teacher2 = Teacher(name=\"Dr. Bob Marley\", age=50, gender=\"Male\", teacher_id=\"T1002\", department=\"Mathematics\", courses_taught=[\"Calculus\", \"Linear Algebra\"])\n",
        "\n",
        "# Add teachers to respective departments\n",
        "cs_department.add_teacher(teacher1)\n",
        "math_department.add_teacher(teacher2)\n",
        "\n",
        "# Create Admin\n",
        "admin1 = Admin(name=\"Sarah Connor\", age=35, gender=\"Female\", admin_id=\"A001\", role=\"Registrar\")\n",
        "\n",
        "# Display University Information\n",
        "print(f\"University: {uni.name}\")\n",
        "print(\"\\nDepartments in the University:\")\n",
        "for dept in uni.get_departments():\n",
        "    print(f\"- {dept}\")\n",
        "\n",
        "# Display Department Details\n",
        "print(\"\\nComputer Science Department Students:\")\n",
        "for student in cs_department.get_students():\n",
        "    print(f\"  {student}\")\n",
        "\n",
        "print(\"\\nMathematics Department Students:\")\n",
        "for student in math_department.get_students():\n",
        "    print(f\"  {student}\")\n",
        "\n",
        "print(\"\\nComputer Science Department Teachers:\")\n",
        "for teacher in cs_department.get_teachers():\n",
        "    print(f\"  {teacher}\")\n",
        "\n",
        "print(\"\\nMathematics Department Teachers:\")\n",
        "for teacher in math_department.get_teachers():\n",
        "    print(f\"  {teacher}\")\n",
        "\n",
        "# Display Admin Information\n",
        "print(\"\\nAdmin Details:\")\n",
        "print(admin1.get_details())\n",
        "\n",
        "        }\n",
        "\n"
      ],
      "metadata": {
        "id": "ekKzw5B8S57L"
      },
      "execution_count": null,
      "outputs": []
    }
  ]
}