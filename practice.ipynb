{
  "nbformat": 4,
  "nbformat_minor": 0,
  "metadata": {
    "colab": {
      "provenance": [],
      "authorship_tag": "ABX9TyNtlal1/moDR6eqtnJ9zr49",
      "include_colab_link": true
    },
    "kernelspec": {
      "name": "python3",
      "display_name": "Python 3"
    },
    "language_info": {
      "name": "python"
    }
  },
  "cells": [
    {
      "cell_type": "markdown",
      "metadata": {
        "id": "view-in-github",
        "colab_type": "text"
      },
      "source": [
        "<a href=\"https://colab.research.google.com/github/EmaanAhmad27/Myself-Essay-Assignment/blob/main/practice.ipynb\" target=\"_parent\"><img src=\"https://colab.research.google.com/assets/colab-badge.svg\" alt=\"Open In Colab\"/></a>"
      ]
    },
    {
      "cell_type": "markdown",
      "source": [
        "New Section"
      ],
      "metadata": {
        "id": "VpCvybEgRg4g"
      }
    },
    {
      "cell_type": "code",
      "source": [
        "#Create a function that converts temperatures between Celsius and Fahrenheit.\n",
        "def conversion (Fahrenheit: float):\n",
        "  celsius = Fahrenheit - 32 * 5/9\n",
        "  return celsius\n",
        "result = conversion(75)\n",
        "print (result)\n",
        "def convert_temp (Celsius:float):\n",
        "  Fahrenheit = Celsius * 9 / 5 + 32\n",
        "  return Fahrenheit\n",
        "result = convert_temp (50)\n",
        "print (result)"
      ],
      "metadata": {
        "colab": {
          "base_uri": "https://localhost:8080/"
        },
        "id": "HzH9Extuc6eU",
        "outputId": "9ba879b9-a7ee-4495-db09-3e02a4ffca68"
      },
      "execution_count": null,
      "outputs": [
        {
          "output_type": "stream",
          "name": "stdout",
          "text": [
            "57.22222222222222\n",
            "122.0\n"
          ]
        }
      ]
    },
    {
      "cell_type": "markdown",
      "source": [
        "Write a function to check if a given year is a leap year.\n",
        "\n",
        "Function name: is_leap_year\n",
        "Parameter: year (int)\n",
        "A year is a leap year if it is divisible by 4, but not by 100 unless it is also divisible by 400.\n",
        "Return True if the year is a leap year, otherwise False."
      ],
      "metadata": {
        "id": "UJ2kR0LhergH"
      }
    },
    {
      "cell_type": "code",
      "source": [
        "def is_leap_year (year:int):\n",
        "  if year % 4 == 0:\n",
        "    return True\n",
        "  else:\n",
        "    return False\n",
        "result = is_leap_year (2024)\n",
        "print (result)\n"
      ],
      "metadata": {
        "colab": {
          "base_uri": "https://localhost:8080/"
        },
        "id": "U2-Lup3mhYHe",
        "outputId": "4f7aa66f-e042-4c08-a247-6d8a492ad9df"
      },
      "execution_count": null,
      "outputs": [
        {
          "output_type": "stream",
          "name": "stdout",
          "text": [
            "True\n"
          ]
        }
      ]
    },
    {
      "cell_type": "markdown",
      "source": [
        "Write a function to check if a number is prime.\n",
        "\n",
        "Function name: is_prime\n",
        "Parameter: num (int)\n",
        "A prime number is only divisible by 1 and itself.\n",
        "Return True if the number is prime, otherwise False."
      ],
      "metadata": {
        "id": "aYUKd3cuj6Zs"
      }
    },
    {
      "cell_type": "code",
      "source": [
        "def is_prime (num):\n",
        "  if num == 1 == num:\n",
        "    return True\n",
        "  else:\n",
        "    return False\n",
        "result = is_prime (50)\n",
        "print (result)"
      ],
      "metadata": {
        "colab": {
          "base_uri": "https://localhost:8080/"
        },
        "id": "he9p3SiLj-fK",
        "outputId": "65d1bf86-51eb-4616-e065-08b80049511a"
      },
      "execution_count": null,
      "outputs": [
        {
          "output_type": "stream",
          "name": "stdout",
          "text": [
            "False\n"
          ]
        }
      ]
    },
    {
      "cell_type": "code",
      "source": [
        "def check_num (n:int):\n",
        "  if n % 2:\n",
        "    return True\n",
        "  else:\n",
        "    return False\n",
        "result = check_num(10)\n",
        "print(result)\n"
      ],
      "metadata": {
        "colab": {
          "base_uri": "https://localhost:8080/"
        },
        "id": "TZKg5qfUm4c3",
        "outputId": "4d658678-df80-4d34-e1cc-c8935f469f9b"
      },
      "execution_count": null,
      "outputs": [
        {
          "output_type": "stream",
          "name": "stdout",
          "text": [
            "False\n"
          ]
        }
      ]
    },
    {
      "cell_type": "markdown",
      "source": [
        "Create a function that takes a score and returns a grade (A, B, C, D, or F).\n",
        "\n",
        "Function name: calculate_grade\n",
        "Parameter: score (int)\n",
        "Use if, elif, and else to return the grade:\n",
        "A for 90 and above\n",
        "B for 80-89\n",
        "C for 70-79\n",
        "D for 60-69\n",
        "F for below 60"
      ],
      "metadata": {
        "id": "o9qNXwoMn8Rk"
      }
    },
    {
      "cell_type": "code",
      "source": [
        "\n",
        "def give_score (n):\n",
        "  if n == 90:\n",
        "    return \"A\"\n",
        "  elif n == 80:\n",
        "    return \"B\"\n",
        "  elif n == 50:\n",
        "    return \"C\"\n",
        "  else:\n",
        "    return \"D\"\n",
        "result = give_score(20)\n",
        "print(result)\n",
        "\n"
      ],
      "metadata": {
        "colab": {
          "base_uri": "https://localhost:8080/"
        },
        "id": "MNuma14xn9Yt",
        "outputId": "4388bbb3-2d76-4eb2-fbdd-d39ed33315c6"
      },
      "execution_count": null,
      "outputs": [
        {
          "output_type": "stream",
          "name": "stdout",
          "text": [
            "D\n"
          ]
        }
      ]
    },
    {
      "cell_type": "code",
      "source": [
        "i = 10\n",
        "while i >= 1:\n",
        "  print (i)\n",
        "  i -= 1\n",
        "print (\"Blastoff!\")"
      ],
      "metadata": {
        "id": "t0oZ742FkAzN",
        "colab": {
          "base_uri": "https://localhost:8080/"
        },
        "outputId": "91c858b0-1041-4c16-e64e-3eb3ee28ad33"
      },
      "execution_count": null,
      "outputs": [
        {
          "output_type": "stream",
          "name": "stdout",
          "text": [
            "10\n",
            "9\n",
            "8\n",
            "7\n",
            "6\n",
            "5\n",
            "4\n",
            "3\n",
            "2\n",
            "1\n",
            "Blastff!\n"
          ]
        }
      ]
    },
    {
      "cell_type": "code",
      "source": [
        "secret_number = 7\n",
        "Guess = int(input(\"Guess the number between 1 and 10:\"))\n",
        "while secret_number != Guess:\n",
        "  print(\"Try again\")\n",
        "  Guess = int(input(\"Guess the number between 1 and 10:\"))\n",
        "print(\"You got it\")\n"
      ],
      "metadata": {
        "colab": {
          "base_uri": "https://localhost:8080/"
        },
        "id": "tlzWfxtxJr5N",
        "outputId": "760b6491-4784-4d5b-de61-0f4782b4be21"
      },
      "execution_count": null,
      "outputs": [
        {
          "output_type": "stream",
          "name": "stdout",
          "text": [
            "Guess the number between 1 an 10:4\n",
            "Try again\n",
            "Guess the number between 1 and 10:7\n",
            "You got it\n"
          ]
        }
      ]
    },
    {
      "cell_type": "code",
      "source": [
        "password = (\"minatina\")\n",
        "guess = input(\"Guess the password:\")\n",
        "while guess != password:\n",
        "  print(\"incorrect password\")\n",
        "  guess = input(\"Guess the password:\")\n",
        "print (\"successful login\")"
      ],
      "metadata": {
        "colab": {
          "base_uri": "https://localhost:8080/"
        },
        "id": "Ur8j1c_9K7Sj",
        "outputId": "e3181592-a0a2-4e96-ed4f-9d7788e00a63"
      },
      "execution_count": null,
      "outputs": [
        {
          "output_type": "stream",
          "name": "stdout",
          "text": [
            "Guess the password:janu\n",
            "incorrect password\n",
            "Guess the password:minu\n",
            "incorrect password\n",
            "Guess the password:minatina\n",
            "successful login\n"
          ]
        }
      ]
    },
    {
      "cell_type": "code",
      "source": [
        "total = 0\n",
        "while True:\n",
        "  user_input = input(\"Enter a given number or type 'stop':\")\n",
        "  if user_input == \"stop\":\n",
        "    break\n",
        "  number = int(user_input)\n",
        "  total += number\n",
        "print (\"total_num:\", total)\n",
        "\n"
      ],
      "metadata": {
        "colab": {
          "base_uri": "https://localhost:8080/"
        },
        "id": "kGQGFS_nNOFT",
        "outputId": "daf27437-4c70-41aa-e391-cf44cc8b46a8"
      },
      "execution_count": null,
      "outputs": [
        {
          "output_type": "stream",
          "name": "stdout",
          "text": [
            "Enter a given number:10\n",
            "Enter a given number:20\n",
            "Enter a given number:30\n",
            "Enter a given number:stop\n",
            "total_num: 60\n"
          ]
        }
      ]
    },
    {
      "cell_type": "code",
      "source": [
        "correct_answer = \"Islamabad\"\n",
        "while True:\n",
        "  user_input = input(\"Enter the capital:\")\n",
        "  if user_input == correct_answer:\n",
        "    print(\"correct answer\")\n",
        "    break\n",
        "  else:\n",
        "    print(\"try again\")\n",
        "\n"
      ],
      "metadata": {
        "colab": {
          "base_uri": "https://localhost:8080/"
        },
        "id": "rSf1IO6NmcrF",
        "outputId": "54c59e6c-7805-4fbc-8c1a-a00ee91999b5"
      },
      "execution_count": null,
      "outputs": [
        {
          "output_type": "stream",
          "name": "stdout",
          "text": [
            "Enter the capital:lahore\n",
            "try again\n",
            "Enter the capital:Islamabad\n",
            "correct answer\n"
          ]
        }
      ]
    },
    {
      "cell_type": "code",
      "source": [
        "number = 1\n",
        "while True:\n",
        "  number *= 2\n",
        "  print (number)\n",
        "  if number > 1000:\n",
        "    break\n",
        "\n"
      ],
      "metadata": {
        "colab": {
          "base_uri": "https://localhost:8080/"
        },
        "id": "xlO3Toqlo-dQ",
        "outputId": "958b50c7-cd8b-49d3-9177-4fe636ed97d8"
      },
      "execution_count": null,
      "outputs": [
        {
          "output_type": "stream",
          "name": "stdout",
          "text": [
            "2\n",
            "4\n",
            "8\n",
            "16\n",
            "32\n",
            "64\n",
            "128\n",
            "256\n",
            "512\n",
            "1024\n"
          ]
        }
      ]
    },
    {
      "cell_type": "code",
      "source": [
        "answer = 10\n",
        "while True:\n",
        "  user_ans = int(input(\"What's 5 times 2?:\"))\n",
        "  user_ans != answer\n",
        "  if user_ans == answer:\n",
        "    print (\"correct answer\")\n",
        "    break\n",
        "\n"
      ],
      "metadata": {
        "colab": {
          "base_uri": "https://localhost:8080/"
        },
        "id": "0Bh45O83q-xd",
        "outputId": "c4b26dfe-c0f1-4827-dd8f-89bdf7d7e609"
      },
      "execution_count": null,
      "outputs": [
        {
          "output_type": "stream",
          "name": "stdout",
          "text": [
            "What's 5 times 2?:3\n",
            "What's 5 times 2?:4\n",
            "What's 5 times 2?:10\n",
            "correct answer\n"
          ]
        }
      ]
    },
    {
      "cell_type": "code",
      "source": [
        "answer = \"gigubigu\"\n",
        "while True:\n",
        "  user_ans = input(\"enter the secret word:\")\n",
        "  if user_ans == answer:\n",
        "     print (\"correct answer\")\n",
        "     break\n",
        "  else:\n",
        "    print(\"wrong answer\")\n"
      ],
      "metadata": {
        "colab": {
          "base_uri": "https://localhost:8080/"
        },
        "id": "sQlsdOVMtMCB",
        "outputId": "a30c778a-b530-4b26-df58-07afcf509121"
      },
      "execution_count": null,
      "outputs": [
        {
          "output_type": "stream",
          "name": "stdout",
          "text": [
            "enter the secret word:vdh\n",
            "wrong answer\n",
            "enter the secret word:gigubigu\n",
            "correct answer\n"
          ]
        }
      ]
    },
    {
      "cell_type": "code",
      "source": [
        "correct_word = \"hingu\"\n",
        "while True:\n",
        "  user_input = input(\"type a random word to guess:\")\n",
        "  if user_input != correct_word:\n",
        "    print (\"try again\")\n",
        "  else:\n",
        "    print (\"correct answer\")\n",
        "    break"
      ],
      "metadata": {
        "colab": {
          "base_uri": "https://localhost:8080/"
        },
        "id": "QSpBuRQsVnFP",
        "outputId": "3a914642-25e3-4f7b-e95a-6679043baa6a"
      },
      "execution_count": null,
      "outputs": [
        {
          "output_type": "stream",
          "name": "stdout",
          "text": [
            "type a random word to guess:pingu\n",
            "try again\n",
            "type a random word to guess:hingu\n",
            "correct answer\n"
          ]
        }
      ]
    },
    {
      "cell_type": "code",
      "source": [
        "i = 1\n",
        "for i in range(1, 6):\n",
        "  print(str(i) * i)"
      ],
      "metadata": {
        "colab": {
          "base_uri": "https://localhost:8080/"
        },
        "id": "h3MTINi-XGCd",
        "outputId": "3c7e00cb-8ca2-44dc-bd72-1a62dc8ce230"
      },
      "execution_count": null,
      "outputs": [
        {
          "output_type": "stream",
          "name": "stdout",
          "text": [
            "1\n",
            "22\n",
            "333\n",
            "4444\n",
            "55555\n"
          ]
        }
      ]
    },
    {
      "cell_type": "code",
      "source": [
        "number = int(input(\"enter a number to get its multiplication table:\"))\n",
        "for i in range (1,11):\n",
        "  print (f\"{number} x {i}= {i*number}\")\n"
      ],
      "metadata": {
        "colab": {
          "base_uri": "https://localhost:8080/"
        },
        "id": "j2F0cV0wYLZ9",
        "outputId": "31de84dc-85fb-4c57-8763-ea88c2028b1b"
      },
      "execution_count": null,
      "outputs": [
        {
          "output_type": "stream",
          "name": "stdout",
          "text": [
            "5 x 1= 5\n",
            "5 x 2= 10\n",
            "5 x 3= 15\n",
            "5 x 4= 20\n",
            "5 x 5= 25\n",
            "5 x 6= 30\n",
            "5 x 7= 35\n",
            "5 x 8= 40\n",
            "5 x 9= 45\n",
            "5 x 10= 50\n"
          ]
        }
      ]
    },
    {
      "cell_type": "markdown",
      "source": [
        "giving max 3 attempts to enter password"
      ],
      "metadata": {
        "id": "OVCX62RjgiSD"
      }
    },
    {
      "cell_type": "code",
      "source": [
        "password = \"gugu\"\n",
        "attempts = 0\n",
        "while True:\n",
        "  user_input = input(\"enter the password:\")\n",
        "  if user_input != password:\n",
        "      print (\"try again\")\n",
        "      attempts += 1\n",
        "      if attempts == 3:\n",
        "        print (\"access denied\")\n",
        "        break\n",
        "\n"
      ],
      "metadata": {
        "colab": {
          "base_uri": "https://localhost:8080/"
        },
        "id": "VyblrUx_ZhHu",
        "outputId": "bb4ae117-c940-46e8-fd63-b59d82102cf2"
      },
      "execution_count": null,
      "outputs": [
        {
          "output_type": "stream",
          "name": "stdout",
          "text": [
            "enter the password:bjk\n",
            "try again\n",
            "enter the password:jb\n",
            "try again\n",
            "enter the password:bjb\n",
            "try again\n",
            "access denied\n"
          ]
        }
      ]
    },
    {
      "cell_type": "markdown",
      "source": [
        "reversing the word"
      ],
      "metadata": {
        "id": "KINy77YvgeLI"
      }
    },
    {
      "cell_type": "code",
      "source": [
        "word = \"summer\"\n",
        "reversed_word = \"\"\n",
        "for x in word:\n",
        "    reversed_word = x + reversed_word\n",
        "print (\"Reversed word:\", reversed_word)\n"
      ],
      "metadata": {
        "colab": {
          "base_uri": "https://localhost:8080/"
        },
        "id": "7jCwj44MbU4s",
        "outputId": "1be2334f-c0cf-4d75-d9c0-60d9c180fb4e"
      },
      "execution_count": null,
      "outputs": [
        {
          "output_type": "stream",
          "name": "stdout",
          "text": [
            "Reversed word: remmus\n"
          ]
        }
      ]
    },
    {
      "cell_type": "markdown",
      "source": [
        "creating a timer that sleeps for 1 sec in between"
      ],
      "metadata": {
        "id": "cQrGVgvXgX9q"
      }
    },
    {
      "cell_type": "code",
      "source": [
        "import time\n",
        "number = 10\n",
        "while number > 0:\n",
        "  print (number)\n",
        "  number -= 1\n",
        "  time.sleep(1)\n",
        "print (\"times up\")"
      ],
      "metadata": {
        "colab": {
          "base_uri": "https://localhost:8080/"
        },
        "id": "Deec3K3_f3L5",
        "outputId": "01a8a1ef-39ed-440b-8518-f4006c11de38"
      },
      "execution_count": null,
      "outputs": [
        {
          "output_type": "stream",
          "name": "stdout",
          "text": [
            "10\n",
            "9\n",
            "8\n",
            "7\n",
            "6\n",
            "5\n",
            "4\n",
            "3\n",
            "2\n",
            "1\n",
            "times up\n"
          ]
        }
      ]
    },
    {
      "cell_type": "code",
      "source": [
        "for i in range(1, 50):\n",
        "  if i % 3 == 0:\n",
        "    print(\"fuzz\")\n",
        "  elif i % 5 == 0:\n",
        "    print(\"buzz\")\n",
        "  elif i % 3 == 0 and i % 5 == 0:\n",
        "    print (\"fuzzbuzz\")\n",
        "  else:\n",
        "    print(i)\n"
      ],
      "metadata": {
        "colab": {
          "base_uri": "https://localhost:8080/"
        },
        "id": "QRZuf5fWgqZA",
        "outputId": "31ad5a91-3f71-485c-9d6e-0af77996abfa"
      },
      "execution_count": null,
      "outputs": [
        {
          "output_type": "stream",
          "name": "stdout",
          "text": [
            "1\n",
            "2\n",
            "fuzz\n",
            "4\n",
            "buzz\n",
            "fuzz\n",
            "7\n",
            "8\n",
            "fuzz\n",
            "buzz\n",
            "11\n",
            "fuzz\n",
            "13\n",
            "14\n",
            "fuzz\n",
            "16\n",
            "17\n",
            "fuzz\n",
            "19\n",
            "buzz\n",
            "fuzz\n",
            "22\n",
            "23\n",
            "fuzz\n",
            "buzz\n",
            "26\n",
            "fuzz\n",
            "28\n",
            "29\n",
            "fuzz\n",
            "31\n",
            "32\n",
            "fuzz\n",
            "34\n",
            "buzz\n",
            "fuzz\n",
            "37\n",
            "38\n",
            "fuzz\n",
            "buzz\n",
            "41\n",
            "fuzz\n",
            "43\n",
            "44\n",
            "fuzz\n",
            "46\n",
            "47\n",
            "fuzz\n",
            "49\n"
          ]
        }
      ]
    },
    {
      "cell_type": "code",
      "source": [
        "nums = [3, 6, 8, 4, 1, 10, 17, 5]\n",
        "largest = nums [0]\n",
        "for number in nums:\n",
        "  if number > largest:\n",
        "    largest = number\n",
        "print(\"The largest number is:\", largest)\n"
      ],
      "metadata": {
        "colab": {
          "base_uri": "https://localhost:8080/"
        },
        "id": "f2qFk3NaiXsh",
        "outputId": "b0389592-d530-4fa5-b62f-4895c9e9be83"
      },
      "execution_count": null,
      "outputs": [
        {
          "output_type": "stream",
          "name": "stdout",
          "text": [
            "The largest number is: 17\n"
          ]
        }
      ]
    },
    {
      "cell_type": "code",
      "source": [
        "shopping_list = []\n",
        "while True:\n",
        "  print (\"options: [1] add item [2] remove item [3] view list [4] exit\")\n",
        "  user_choice = (input(\"Enter your choice:\"))\n",
        "  if user_choice == \"1\":\n",
        "    user_input = input(\"Enter an item to add in the list:\")\n",
        "    shopping_list.append(user_input)\n",
        "    print (f\"The item {user_input} is added into the cart\")\n",
        "  elif user_choice == \"2\":\n",
        "    remove_item = input(\"Which item you want to remove from the list:\")\n",
        "    if remove_item in shopping_list:\n",
        "      shopping_list.remove(remove_item)\n",
        "      print (\"The item has been successfully removed\")\n",
        "    else:\n",
        "      print(f\"The {remove_item} is not present in the cart\")\n",
        "  elif user_choice == \"3\":\n",
        "    print (\"Your shopping cart\", shopping_list)\n",
        "  elif user_choice == \"4\":\n",
        "    print (\"Good bye\")\n",
        "    break\n",
        "  else:\n",
        "    print(\"Invalid choice. Please try again.\")\n",
        "\n",
        "\n"
      ],
      "metadata": {
        "colab": {
          "base_uri": "https://localhost:8080/"
        },
        "id": "o6o9zwnGf4bS",
        "outputId": "08581ff4-511a-4548-d6eb-f4ad6da77d9b"
      },
      "execution_count": 5,
      "outputs": [
        {
          "output_type": "stream",
          "name": "stdout",
          "text": [
            "options: [1] add item [2] remove item [3] view list [4] exit\n",
            "Enter your choice:1\n",
            "Enter an item to add in the list:apple\n",
            "The item apple is added into the cart\n",
            "options: [1] add item [2] remove item [3] view list [4] exit\n",
            "Enter your choice:1\n",
            "Enter an item to add in the list:banana\n",
            "The item banana is added into the cart\n",
            "options: [1] add item [2] remove item [3] view list [4] exit\n",
            "Enter your choice:2\n",
            "Which item you want to remove from the list:banana\n",
            "The item has been successfully removed\n",
            "options: [1] add item [2] remove item [3] view list [4] exit\n",
            "Enter your choice:3\n",
            "Your shopping cart ['apple']\n",
            "options: [1] add item [2] remove item [3] view list [4] exit\n",
            "Enter your choice:4\n",
            "Good bye\n"
          ]
        }
      ]
    },
    {
      "cell_type": "code",
      "source": [
        "quiz = {\n",
        "    \"what is my pet name?\": \"vinie\",\n",
        "    \"what was my clg name?\" : \"studentsinn\",\n",
        "    \"what is my profession?\" : \"writing\",\n",
        "    \"what am I learning right now?\" : \"artificial intelligence\"\n",
        "}\n",
        "score = 0\n",
        "for question, correct_ans in quiz.items():\n",
        "  guess = input(question + \" \")\n",
        "  if guess.lower() == correct_ans.lower():\n",
        "   print (\"Wow Your guess was right!\")\n",
        "   score += 1\n",
        "  else:\n",
        "   print (f\"Oh no, you lose! The correct answer was {correct_ans}\")\n",
        "print (f\"Your final score is {score}\")"
      ],
      "metadata": {
        "colab": {
          "base_uri": "https://localhost:8080/"
        },
        "id": "oQdUXPQLnrXl",
        "outputId": "b1c861d2-30cf-468c-8204-29b2fdaddadd"
      },
      "execution_count": 10,
      "outputs": [
        {
          "output_type": "stream",
          "name": "stdout",
          "text": [
            "what is my pet name? vinie\n",
            "Wow Your guess was right!\n",
            "what was my clg name? fcg\n",
            "Oh no, you lose! The correct answer was studentsinn\n",
            "what is my profession? writing\n",
            "Wow Your guess was right!\n",
            "what am I learning right now? enginnering\n",
            "Oh no, you lose! The correct answer was artificial intelligence\n",
            "Your final score is 2\n"
          ]
        }
      ]
    },
    {
      "cell_type": "code",
      "source": [
        "friends = {\"aswah\": 3, \"rida\": 5, \"anveesha\": 7}\n",
        "print(friends)\n",
        "friends [\"rida\"] = 1\n",
        "print(friends)"
      ],
      "metadata": {
        "colab": {
          "base_uri": "https://localhost:8080/"
        },
        "id": "EUEl-Pc-JFhe",
        "outputId": "27d18e2e-4faf-4bb5-c77c-d5e9ac2dc66c"
      },
      "execution_count": 2,
      "outputs": [
        {
          "output_type": "stream",
          "name": "stdout",
          "text": [
            "{'aswah': 3, 'rida': 5, 'anveesha': 7}\n",
            "{'aswah': 3, 'rida': 1, 'anveesha': 7}\n"
          ]
        }
      ]
    },
    {
      "cell_type": "code",
      "source": [
        "my_list = ['potato', 'tomato', 'ginger']\n",
        "user_input = int(input(\"enter a number from 0 to 2:\"))\n",
        "print(my_list[user_input])"
      ],
      "metadata": {
        "colab": {
          "base_uri": "https://localhost:8080/"
        },
        "id": "GBpHH42sKHlS",
        "outputId": "911324e2-41ab-4545-f85b-c071a1ee76b1"
      },
      "execution_count": 3,
      "outputs": [
        {
          "output_type": "stream",
          "name": "stdout",
          "text": [
            "enter a number from 1 to 3:2\n",
            "ginger\n"
          ]
        }
      ]
    }
  ]
}