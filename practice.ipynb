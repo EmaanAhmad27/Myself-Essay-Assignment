{
  "nbformat": 4,
  "nbformat_minor": 0,
  "metadata": {
    "colab": {
      "provenance": [],
      "authorship_tag": "ABX9TyNLrvmAUTiq7OpdWGfuRys+",
      "include_colab_link": true
    },
    "kernelspec": {
      "name": "python3",
      "display_name": "Python 3"
    },
    "language_info": {
      "name": "python"
    }
  },
  "cells": [
    {
      "cell_type": "markdown",
      "metadata": {
        "id": "view-in-github",
        "colab_type": "text"
      },
      "source": [
        "<a href=\"https://colab.research.google.com/github/EmaanAhmad27/Myself-Essay-Assignment/blob/main/practice.ipynb\" target=\"_parent\"><img src=\"https://colab.research.google.com/assets/colab-badge.svg\" alt=\"Open In Colab\"/></a>"
      ]
    },
    {
      "cell_type": "markdown",
      "source": [
        "New Section"
      ],
      "metadata": {
        "id": "VpCvybEgRg4g"
      }
    },
    {
      "cell_type": "code",
      "source": [
        "#Create a function that converts temperatures between Celsius and Fahrenheit.\n",
        "def conversion (Fahrenheit: float):\n",
        "  celsius = Fahrenheit - 32 * 5/9\n",
        "  return celsius\n",
        "result = conversion(75)\n",
        "print (result)\n",
        "def convert_temp (Celsius:float):\n",
        "  Fahrenheit = Celsius * 9 / 5 + 32\n",
        "  return Fahrenheit\n",
        "result = convert_temp (50)\n",
        "print (result)"
      ],
      "metadata": {
        "colab": {
          "base_uri": "https://localhost:8080/"
        },
        "id": "HzH9Extuc6eU",
        "outputId": "9ba879b9-a7ee-4495-db09-3e02a4ffca68"
      },
      "execution_count": 4,
      "outputs": [
        {
          "output_type": "stream",
          "name": "stdout",
          "text": [
            "57.22222222222222\n",
            "122.0\n"
          ]
        }
      ]
    },
    {
      "cell_type": "markdown",
      "source": [
        "Write a function to check if a given year is a leap year.\n",
        "\n",
        "Function name: is_leap_year\n",
        "Parameter: year (int)\n",
        "A year is a leap year if it is divisible by 4, but not by 100 unless it is also divisible by 400.\n",
        "Return True if the year is a leap year, otherwise False."
      ],
      "metadata": {
        "id": "UJ2kR0LhergH"
      }
    },
    {
      "cell_type": "code",
      "source": [
        "def is_leap_year (year:int):\n",
        "  if year % 4 == 0:\n",
        "    return True\n",
        "  else:\n",
        "    return False\n",
        "result = is_leap_year (2024)\n",
        "print (result)\n"
      ],
      "metadata": {
        "colab": {
          "base_uri": "https://localhost:8080/"
        },
        "id": "U2-Lup3mhYHe",
        "outputId": "4f7aa66f-e042-4c08-a247-6d8a492ad9df"
      },
      "execution_count": 6,
      "outputs": [
        {
          "output_type": "stream",
          "name": "stdout",
          "text": [
            "True\n"
          ]
        }
      ]
    },
    {
      "cell_type": "markdown",
      "source": [
        "Write a function to check if a number is prime.\n",
        "\n",
        "Function name: is_prime\n",
        "Parameter: num (int)\n",
        "A prime number is only divisible by 1 and itself.\n",
        "Return True if the number is prime, otherwise False."
      ],
      "metadata": {
        "id": "aYUKd3cuj6Zs"
      }
    },
    {
      "cell_type": "code",
      "source": [
        "def is_prime (num):\n",
        "  if num == 1 == num:\n",
        "    return True\n",
        "  else:\n",
        "    return False\n",
        "result = is_prime (50)\n",
        "print (result)"
      ],
      "metadata": {
        "colab": {
          "base_uri": "https://localhost:8080/"
        },
        "id": "he9p3SiLj-fK",
        "outputId": "65d1bf86-51eb-4616-e065-08b80049511a"
      },
      "execution_count": 7,
      "outputs": [
        {
          "output_type": "stream",
          "name": "stdout",
          "text": [
            "False\n"
          ]
        }
      ]
    },
    {
      "cell_type": "code",
      "source": [
        "def check_num (n:int):\n",
        "  if n % 2:\n",
        "    return True\n",
        "  else:\n",
        "    return False\n",
        "result = check_num(10)\n",
        "print(result)\n"
      ],
      "metadata": {
        "colab": {
          "base_uri": "https://localhost:8080/"
        },
        "id": "TZKg5qfUm4c3",
        "outputId": "4d658678-df80-4d34-e1cc-c8935f469f9b"
      },
      "execution_count": 8,
      "outputs": [
        {
          "output_type": "stream",
          "name": "stdout",
          "text": [
            "False\n"
          ]
        }
      ]
    },
    {
      "cell_type": "markdown",
      "source": [
        "Create a function that takes a score and returns a grade (A, B, C, D, or F).\n",
        "\n",
        "Function name: calculate_grade\n",
        "Parameter: score (int)\n",
        "Use if, elif, and else to return the grade:\n",
        "A for 90 and above\n",
        "B for 80-89\n",
        "C for 70-79\n",
        "D for 60-69\n",
        "F for below 60"
      ],
      "metadata": {
        "id": "o9qNXwoMn8Rk"
      }
    },
    {
      "cell_type": "code",
      "source": [
        "\n",
        "def give_score (n):\n",
        "  if n == 90:\n",
        "    return \"A\"\n",
        "  elif n == 80:\n",
        "    return \"B\"\n",
        "  elif n == 50:\n",
        "    return \"C\"\n",
        "  else:\n",
        "    return \"D\"\n",
        "result = give_score(20)\n",
        "print(result)\n",
        "\n"
      ],
      "metadata": {
        "colab": {
          "base_uri": "https://localhost:8080/"
        },
        "id": "MNuma14xn9Yt",
        "outputId": "4388bbb3-2d76-4eb2-fbdd-d39ed33315c6"
      },
      "execution_count": 10,
      "outputs": [
        {
          "output_type": "stream",
          "name": "stdout",
          "text": [
            "D\n"
          ]
        }
      ]
    }
  ]
}